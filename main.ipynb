{
 "cells": [
  {
   "cell_type": "code",
   "execution_count": 9,
   "metadata": {},
   "outputs": [
    {
     "name": "stdout",
     "output_type": "stream",
     "text": [
      "Tesseract (sh)\n"
     ]
    }
   ],
   "source": [
    "import pyocr\n",
    "\n",
    "tools = pyocr.get_available_tools()\n",
    "for tool in tools :\n",
    "    print(tool.get_name())"
   ]
  },
  {
   "cell_type": "code",
   "execution_count": 10,
   "metadata": {},
   "outputs": [
    {
     "name": "stdout",
     "output_type": "stream",
     "text": [
      "['eng', 'jpn', 'osd', 'snum']\n"
     ]
    }
   ],
   "source": [
    "import pyocr\n",
    "\n",
    "tools = pyocr.get_available_tools()\n",
    "\n",
    "tool = tools[0]\n",
    "langs = tool.get_available_languages()\n",
    "\n",
    "print(langs)"
   ]
  },
  {
   "cell_type": "code",
   "execution_count": 11,
   "metadata": {},
   "outputs": [
    {
     "data": {
      "text/plain": [
       "True"
      ]
     },
     "execution_count": 11,
     "metadata": {},
     "output_type": "execute_result"
    }
   ],
   "source": [
    "from PIL import Image\n",
    "import sys\n",
    "\n",
    "import pyocr\n",
    "import pyocr.builders\n",
    "\n",
    "import cv2\n",
    "\n",
    "dirname = 'images'\n",
    "filename = 'IMG_1544.jpg'\n",
    "threshold = 100\n",
    "\n",
    "img = cv2.imread('./' + dirname + '/' + filename, 0)\n",
    "ret, img_thresh = cv2.threshold(img, threshold, 255, cv2.THRESH_BINARY)\n",
    "cv2.imwrite('./' + dirname + '/new_' + filename, img_thresh)\n",
    "\n",
    "# cv2.imshow('test', img_thresh)\n",
    "# cv2.waitKey()\n",
    "# cv2.destroyAllWindows()\n",
    "\n",
    "\n",
    "# im = cv2.imread('./' + dirname + '/' + filename)\n",
    "# im_rect_gray = cv2.cvtColor(im, cv2.COLOR_BGR2GRAY)\n",
    "# cv2.imwrite('rect_'+filename, im_rect_gray)\n",
    "\n",
    "# tools = pyocr.get_available_tools()\n",
    "# if len(tools) == 0:\n",
    "#         print(\"No OCR tool found\")\n",
    "#         sys.exit(1)\n",
    "# # The tools are returned in the recommended order of usage\n",
    "# tool = tools[0]\n",
    "\n",
    "# lang = 'jpn'\n",
    "# txt = tool.image_to_string(\n",
    "#         Image.open('images/IMG_1536.jpg'),\n",
    "#         lang=lang,\n",
    "#         builder=pyocr.builders.TextBuilder(tesseract_layout=1)\n",
    "#         )\n",
    "\n",
    "# print(txt)"
   ]
  },
  {
   "cell_type": "code",
   "execution_count": 12,
   "metadata": {},
   "outputs": [
    {
     "name": "stdout",
     "output_type": "stream",
     "text": [
      "み わ で で ① ず っ と み て た い で す 、、b ッ ア ル ッ\n",
      "? カ の 人\n"
     ]
    }
   ],
   "source": [
    "tools = pyocr.get_available_tools()\n",
    "if len(tools) == 0:\n",
    "        print(\"No OCR tool found\")\n",
    "        sys.exit(1)\n",
    "# The tools are returned in the recommended order of usage\n",
    "tool = tools[0]\n",
    "\n",
    "lang = 'jpn'\n",
    "txt = tool.image_to_string(\n",
    "        Image.open('images/ocr_test.jpeg'),\n",
    "        lang=lang,\n",
    "        builder=pyocr.builders.TextBuilder(tesseract_layout=1)\n",
    "        )\n",
    "\n",
    "print(txt)"
   ]
  },
  {
   "cell_type": "code",
   "execution_count": null,
   "metadata": {},
   "outputs": [],
   "source": []
  }
 ],
 "metadata": {
  "kernelspec": {
   "display_name": "Python 3",
   "language": "python",
   "name": "python3"
  },
  "language_info": {
   "codemirror_mode": {
    "name": "ipython",
    "version": 3
   },
   "file_extension": ".py",
   "mimetype": "text/x-python",
   "name": "python",
   "nbconvert_exporter": "python",
   "pygments_lexer": "ipython3",
   "version": "3.7.5"
  }
 },
 "nbformat": 4,
 "nbformat_minor": 2
}
